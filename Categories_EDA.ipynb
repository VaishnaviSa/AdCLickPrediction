{
 "cells": [
  {
   "cell_type": "code",
   "execution_count": 1,
   "metadata": {},
   "outputs": [],
   "source": [
    "import numpy as np \n",
    "import pandas as pd \n",
    "import os\n",
    "import gc\n",
    "import matplotlib.pyplot as plt\n",
    "import seaborn as sns\n",
    "%matplotlib inline\n",
    "import datetime "
   ]
  },
  {
   "cell_type": "code",
   "execution_count": 2,
   "metadata": {},
   "outputs": [
    {
     "name": "stdout",
     "output_type": "stream",
     "text": [
      "Columns: ['document_id', 'topic_id', 'confidence_level']\n",
      "Number of unique topics: 300\n"
     ]
    },
    {
     "data": {
      "text/html": [
       "<div>\n",
       "<style scoped>\n",
       "    .dataframe tbody tr th:only-of-type {\n",
       "        vertical-align: middle;\n",
       "    }\n",
       "\n",
       "    .dataframe tbody tr th {\n",
       "        vertical-align: top;\n",
       "    }\n",
       "\n",
       "    .dataframe thead th {\n",
       "        text-align: right;\n",
       "    }\n",
       "</style>\n",
       "<table border=\"1\" class=\"dataframe\">\n",
       "  <thead>\n",
       "    <tr style=\"text-align: right;\">\n",
       "      <th></th>\n",
       "      <th>document_id</th>\n",
       "      <th>topic_id</th>\n",
       "      <th>confidence_level</th>\n",
       "    </tr>\n",
       "  </thead>\n",
       "  <tbody>\n",
       "    <tr>\n",
       "      <th>0</th>\n",
       "      <td>1595802</td>\n",
       "      <td>140</td>\n",
       "      <td>0.073113</td>\n",
       "    </tr>\n",
       "    <tr>\n",
       "      <th>1</th>\n",
       "      <td>1595802</td>\n",
       "      <td>16</td>\n",
       "      <td>0.059416</td>\n",
       "    </tr>\n",
       "    <tr>\n",
       "      <th>2</th>\n",
       "      <td>1595802</td>\n",
       "      <td>143</td>\n",
       "      <td>0.045421</td>\n",
       "    </tr>\n",
       "    <tr>\n",
       "      <th>3</th>\n",
       "      <td>1595802</td>\n",
       "      <td>170</td>\n",
       "      <td>0.038867</td>\n",
       "    </tr>\n",
       "    <tr>\n",
       "      <th>4</th>\n",
       "      <td>1524246</td>\n",
       "      <td>113</td>\n",
       "      <td>0.196450</td>\n",
       "    </tr>\n",
       "  </tbody>\n",
       "</table>\n",
       "</div>"
      ],
      "text/plain": [
       "   document_id  topic_id  confidence_level\n",
       "0      1595802       140          0.073113\n",
       "1      1595802        16          0.059416\n",
       "2      1595802       143          0.045421\n",
       "3      1595802       170          0.038867\n",
       "4      1524246       113          0.196450"
      ]
     },
     "execution_count": 2,
     "metadata": {},
     "output_type": "execute_result"
    }
   ],
   "source": [
    "topics = pd.read_csv('all/documents_topics.csv')\n",
    "print('Columns:',topics.columns.tolist())\n",
    "print('Number of unique topics:', len(topics.topic_id.unique()))\n",
    "\n",
    "topics.head()"
   ]
  },
  {
   "cell_type": "code",
   "execution_count": 5,
   "metadata": {},
   "outputs": [
    {
     "name": "stdout",
     "output_type": "stream",
     "text": [
      "Number of topics that appear more than 10000 times: 201\n",
      "Number of topics that appear more than 50000 times: 86\n",
      "Number of topics that appear more than 100000 times: 22\n",
      "Number of topics that appear more than 200000 times: 3\n"
     ]
    }
   ],
   "source": [
    "topic_ids = topics.groupby('topic_id')['confidence_level'].count().sort_values()\n",
    "\n",
    "for i in [10000, 50000, 100000, 200000]:\n",
    "    print('Number of topics that appear more than {} times: {}'\n",
    "          .format(i, (topic_ids > i).sum()))"
   ]
  },
  {
   "cell_type": "code",
   "execution_count": 7,
   "metadata": {},
   "outputs": [
    {
     "data": {
      "image/png": "[encoded data removed]",
      "text/plain": [
       "<matplotlib.figure.Figure at 0x1a13253860>"
      ]
     },
     "metadata": {},
     "output_type": "display_data"
    }
   ],
   "source": [
    "plt.figure(figsize=(12,4))\n",
    "plt.hist(topics.groupby(\"topic_id\").agg({\"topic_id\":pd.Series.count}).as_matrix(), bins=100,edgecolor='black')\n",
    "plt.title('Documents per Topic Frequency', fontsize=14)\n",
    "plt.xlabel('Number of Documents', fontsize=14)\n",
    "plt.ylabel('Topic Count', fontsize=14)\n",
    "plt.show()"
   ]
  },
  {
   "cell_type": "code",
   "execution_count": 14,
   "metadata": {},
   "outputs": [
    {
     "name": "stdout",
     "output_type": "stream",
     "text": [
      "\n",
      "Top 10:\n",
      "           topic_id\n",
      "topic_id          \n",
      "16          268216\n",
      "184         256028\n",
      "20          226877\n",
      "140         195645\n",
      "143         181260\n",
      "181         177946\n",
      "107         157643\n",
      "235         156856\n",
      "49          154783\n",
      "8           139734\n"
     ]
    }
   ],
   "source": [
    "def printGroupInfo(df):\n",
    "    print(\"\\nTop 10:\\n\", df.apply(lambda x: x.sort_values(ascending=False)).head(10))\n",
    "printGroupInfo(topics.groupby(\"topic_id\").agg({\"topic_id\":pd.Series.count}))"
   ]
  },
  {
   "cell_type": "code",
   "execution_count": 17,
   "metadata": {},
   "outputs": [
    {
     "name": "stderr",
     "output_type": "stream",
     "text": [
      "/Users/vaishnavisabhahith/anaconda3/lib/python3.6/site-packages/numpy/lib/arraysetops.py:466: FutureWarning: elementwise comparison failed; returning scalar instead, but in the future will perform elementwise comparison\n",
      "  mask |= (ar1 == a)\n"
     ]
    }
   ],
   "source": [
    "events = pd.read_csv(\"all/events.csv\", dtype=np.int32, index_col=0, usecols=[0,3])\n",
    "train = pd.merge(pd.read_csv(\"all/clicks_train.csv\", dtype=np.int32, index_col=0).sample(frac=0.1),events, left_index=True, right_index=True)\n",
    "test = pd.merge(pd.read_csv(\"all/clicks_test.csv\", dtype=np.int32, index_col=0).sample(frac=0.1),events, left_index=True, right_index=True)\n",
    "\n",
    "test[\"hour\"] = (test.timestamp // (3600 * 1000)) % 24\n",
    "test[\"day\"] = test.timestamp // (3600 * 24 * 1000)\n",
    "\n",
    "train[\"hour\"] = (train.timestamp // (3600 * 1000)) % 24\n",
    "train[\"day\"] = train.timestamp // (3600 * 24 * 1000)"
   ]
  },
  {
   "cell_type": "code",
   "execution_count": 18,
   "metadata": {},
   "outputs": [
    {
     "data": {
      "text/plain": [
       "Text(0,0.5,'Fraction of Events')"
      ]
     },
     "execution_count": 18,
     "metadata": {},
     "output_type": "execute_result"
    },
    {
     "data": {
      "image/png": "[encoded data removed]",
      "text/plain": [
       "<matplotlib.figure.Figure at 0x1a12a21c88>"
      ]
     },
     "metadata": {},
     "output_type": "display_data"
    }
   ],
   "source": [
    "plt.figure(figsize=(12,4))\n",
    "train.day.hist(bins=np.linspace(-.5, 14.5, 16), label=\"train\", alpha=0.7, normed=True,edgecolor='black')\n",
    "test.day.hist(bins=np.linspace(-.5, 14.5, 16), label=\"test\", alpha=0.7, normed=True,edgecolor='black')\n",
    "plt.xlim(-0.5, 14.5)\n",
    "plt.legend(loc=\"best\")\n",
    "plt.xlabel(\"Days since June 14\")\n",
    "plt.ylabel(\"Fraction of Events\")"
   ]
  },
  {
   "cell_type": "code",
   "execution_count": 20,
   "metadata": {},
   "outputs": [],
   "source": [
    "T_DELTA = 1465876799998"
   ]
  },
  {
   "cell_type": "code",
   "execution_count": 22,
   "metadata": {},
   "outputs": [
    {
     "name": "stdout",
     "output_type": "stream",
     "text": [
      "Earliest Date: 2016-06-13 21:00:00\n",
      "Latest Date: 2016-06-28 20:59:59\n"
     ]
    }
   ],
   "source": [
    "print(\"Earliest Date:\", datetime.datetime.fromtimestamp((min(events['timestamp']) + T_DELTA)//1000))\n",
    "print(\"Latest Date:\", datetime.datetime.fromtimestamp((max(events['timestamp']) + T_DELTA)//1000))"
   ]
  },
  {
   "cell_type": "code",
   "execution_count": 27,
   "metadata": {},
   "outputs": [
    {
     "data": {
      "text/plain": [
       "Text(0,0.5,'Count')"
      ]
     },
     "execution_count": 27,
     "metadata": {},
     "output_type": "execute_result"
    },
    {
     "data": {
      "image/png": "[encoded data removed]",
      "text/plain": [
       "<matplotlib.figure.Figure at 0x1a13258978>"
      ]
     },
     "metadata": {},
     "output_type": "display_data"
    }
   ],
   "source": [
    "dateCounts = (events.timestamp)//(1000 * 3600 *24)\n",
    "\n",
    "plt.figure(figsize=(12,4))\n",
    "plt.hist(dateCounts.values.tolist(), bins=14,edgecolor='black')\n",
    "plt.title('Datetime Frequency in events.csv', fontsize=14)\n",
    "plt.xlabel('Days since June 14, 2016', fontsize=14)\n",
    "plt.ylabel('Count', fontsize=14)"
   ]
  },
  {
   "cell_type": "code",
   "execution_count": 29,
   "metadata": {},
   "outputs": [
    {
     "data": {
      "text/plain": [
       "Text(0,0.5,'Count')"
      ]
     },
     "execution_count": 29,
     "metadata": {},
     "output_type": "execute_result"
    },
    {
     "data": {
      "image/png": "[encoded data removed]",
      "text/plain": [
       "<matplotlib.figure.Figure at 0x1a12894668>"
      ]
     },
     "metadata": {},
     "output_type": "display_data"
    }
   ],
   "source": [
    "hourCounts = (events.timestamp)//(1000 * 3600) %24\n",
    "\n",
    "plt.figure(figsize=(12,4))\n",
    "plt.hist(hourCounts.values.tolist(), bins=24,edgecolor='black')\n",
    "plt.title('Hour Frequency in events.csv', fontsize=14)\n",
    "plt.xlabel('Hour', fontsize=14)\n",
    "plt.ylabel('Count', fontsize=14)"
   ]
  },
  {
   "cell_type": "code",
   "execution_count": null,
   "metadata": {},
   "outputs": [],
   "source": []
  }
 ],
 "metadata": {
  "kernelspec": {
   "display_name": "Python 3",
   "language": "python",
   "name": "python3"
  },
  "language_info": {
   "codemirror_mode": {
    "name": "ipython",
    "version": 3
   },
   "file_extension": ".py",
   "mimetype": "text/x-python",
   "name": "python",
   "nbconvert_exporter": "python",
   "pygments_lexer": "ipython3",
   "version": "3.6.4"
  }
 },
 "nbformat": 4,
 "nbformat_minor": 2
}
