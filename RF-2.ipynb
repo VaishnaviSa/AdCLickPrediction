{
 "cells": [
  {
   "cell_type": "code",
   "execution_count": 1,
   "metadata": {},
   "outputs": [],
   "source": [
    "import numpy as np \n",
    "import pandas as pd \n",
    "from sklearn.ensemble import RandomForestClassifier"
   ]
  },
  {
   "cell_type": "code",
   "execution_count": 2,
   "metadata": {},
   "outputs": [
    {
     "name": "stdout",
     "output_type": "stream",
     "text": [
      "Get tables to combine\n",
      "Done combining\n",
      "Training\n",
      "5\n"
     ]
    }
   ],
   "source": [
    "print (\"Get tables to combine\")\n",
    "content = pd.read_csv('all/promoted_content.csv')\n",
    "print('Done combining')\n",
    "\n",
    "chunksize=50000\n",
    "train = pd.read_csv('all/clicks_train.csv',iterator=True,chunksize=chunksize)\n",
    "print('Training')\n",
    "for chunk in train:\n",
    "    chunk=pd.merge(chunk,content,how='left',on='ad_id')\t\n",
    "    predictors=[x for x in chunk.columns if x not in ['display_id','clicked']]\n",
    "    #print(predictors) #['ad_id', 'document_id', 'campaign_id', 'advertiser_id']\n",
    "    chunk=chunk.fillna(0.0)\n",
    "    alg = RandomForestClassifier(random_state=1, n_estimators=10, min_samples_split=4, min_samples_leaf=2, warm_start=True)\n",
    "    alg.fit(chunk[predictors], chunk[\"clicked\"])\n",
    "print('5')\n"
   ]
  },
  {
   "cell_type": "code",
   "execution_count": 3,
   "metadata": {},
   "outputs": [
    {
     "name": "stdout",
     "output_type": "stream",
     "text": [
      "Testing\n",
      "Done Testing\n"
     ]
    }
   ],
   "source": [
    "train=''\n",
    "print('Testing')\n",
    "test= pd.read_csv('all/clicks_test.csv',iterator=True,chunksize=chunksize) #Load data\n",
    "predY=[]\n",
    "for chunk in test:\n",
    "    init_chunk_size=len(chunk)\n",
    "    chunk=pd.merge(chunk,content,how='left',on='ad_id')\n",
    "    chunk=chunk.fillna(0.0)\n",
    "    chunk_pred=list(alg.predict_proba(chunk[predictors]).astype(float)[:,1])\n",
    "    predY += chunk_pred\n",
    "print('Done Testing')"
   ]
  },
  {
   "cell_type": "code",
   "execution_count": 4,
   "metadata": {},
   "outputs": [
    {
     "name": "stdout",
     "output_type": "stream",
     "text": [
      "Preparing for Submission\n",
      "          0       1         2\n",
      "0  16874594   66758  0.120000\n",
      "1  16874594  150083  0.104339\n",
      "2  16874594  162754  0.195243\n",
      "3  16874594  170392  0.184841\n",
      "4  16874594  172888  0.518810\n",
      "5  16874594  180797  0.286017\n",
      "6  16874595    8846  0.142857\n",
      "7  16874595   30609  0.000000\n",
      "8  16874595  143982  0.000000\n",
      "9  16874596   11430  0.370992\n",
      "output stored\n"
     ]
    }
   ],
   "source": [
    "print('Preparing for Submission')\n",
    "test=''\n",
    "test= pd.read_csv('all/clicks_test.csv')\n",
    "results=pd.concat((test,pd.DataFrame(predY)) ,axis=1,ignore_index=True)\n",
    "print(results.head(10))\n",
    "results.columns = ['display_id','ad_id','clicked']\n",
    "results.sort_values(['display_id','clicked'], inplace=True, ascending=False)\n",
    "results = results.groupby('display_id').ad_id.apply(lambda x: \" \".join(map(str,x))).reset_index()\n",
    "results.to_csv('all/final2_3dec.csv', index=False)\n",
    "print(\"output stored\")"
   ]
  }
 ],
 "metadata": {
  "kernelspec": {
   "display_name": "Python 3",
   "language": "python",
   "name": "python3"
  },
  "language_info": {
   "codemirror_mode": {
    "name": "ipython",
    "version": 3
   },
   "file_extension": ".py",
   "mimetype": "text/x-python",
   "name": "python",
   "nbconvert_exporter": "python",
   "pygments_lexer": "ipython3",
   "version": "3.6.4"
  }
 },
 "nbformat": 4,
 "nbformat_minor": 2
}
