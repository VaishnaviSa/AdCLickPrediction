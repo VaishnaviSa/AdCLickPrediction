{
 "cells": [
  {
   "cell_type": "code",
   "execution_count": 1,
   "metadata": {},
   "outputs": [],
   "source": [
    "#Author-Vaishnavi Sabhahita\n",
    "import numpy as np \n",
    "import pandas as pd \n",
    "from sklearn.ensemble import RandomForestClassifier"
   ]
  },
  {
   "cell_type": "code",
   "execution_count": 2,
   "metadata": {},
   "outputs": [
    {
     "name": "stdout",
     "output_type": "stream",
     "text": [
      "start\n",
      "done\n"
     ]
    }
   ],
   "source": [
    "print('start')\n",
    "promoted_content = pd.read_csv('all/promoted_content.csv')\n",
    "br=50000\n",
    "train = pd.read_csv('all/clicks_train.csv',iterator=True,chunksize=br)\n",
    "print('done')"
   ]
  },
  {
   "cell_type": "code",
   "execution_count": 3,
   "metadata": {},
   "outputs": [
    {
     "name": "stdout",
     "output_type": "stream",
     "text": [
      "training done\n"
     ]
    }
   ],
   "source": [
    "for br1 in train:\n",
    "    br1=pd.merge(br1,promoted_content,how='left',on='ad_id')\n",
    "    predictors=[x for x in br1.columns if x not in ['display_id','clicked']]\n",
    "    #print(predictors) #['ad_id', 'document_id', 'campaign_id', 'advertiser_id']\n",
    "    br1=br1.fillna(0.0)\n",
    "    alg = RandomForestClassifier(random_state=1, n_estimators=3, min_samples_split=4, min_samples_leaf=2, warm_start=True)\n",
    "    alg.fit(br1[predictors], br1[\"clicked\"])\n",
    "print('training done')"
   ]
  },
  {
   "cell_type": "code",
   "execution_count": 4,
   "metadata": {},
   "outputs": [
    {
     "name": "stdout",
     "output_type": "stream",
     "text": [
      "test loaded\n"
     ]
    }
   ],
   "source": [
    "train=''\n",
    "test= pd.read_csv('all/clicks_test.csv',iterator=True,chunksize=br) #Load data\n",
    "prediction=[]\n",
    "print('test loaded')"
   ]
  },
  {
   "cell_type": "code",
   "execution_count": 5,
   "metadata": {},
   "outputs": [
    {
     "name": "stdout",
     "output_type": "stream",
     "text": [
      "prediction\n"
     ]
    }
   ],
   "source": [
    "for br1 in test:\n",
    "    init_br_size=len(br1)\n",
    "    br1=pd.merge(br1,promoted_content,how='left',on='ad_id')\n",
    "    br1=br1.fillna(0.0)\n",
    "    br_pred=list(alg.predict_proba(br1[predictors]).astype(float)[:,1])\n",
    "    prediction += br_pred\n",
    "print('prediction')"
   ]
  },
  {
   "cell_type": "code",
   "execution_count": 6,
   "metadata": {},
   "outputs": [
    {
     "name": "stdout",
     "output_type": "stream",
     "text": [
      "done\n"
     ]
    }
   ],
   "source": [
    "test=''\n",
    "test= pd.read_csv('all/clicks_test.csv')\n",
    "print('done')"
   ]
  },
  {
   "cell_type": "code",
   "execution_count": 7,
   "metadata": {},
   "outputs": [
    {
     "name": "stdout",
     "output_type": "stream",
     "text": [
      "          0       1         2\n",
      "0  16874594   66758  0.200000\n",
      "1  16874594  150083  0.133333\n",
      "2  16874594  162754  0.150697\n",
      "3  16874594  170392  0.133333\n",
      "4  16874594  172888  0.723810\n",
      "5  16874594  180797  0.266667\n",
      "6  16874595    8846  0.047619\n",
      "7  16874595   30609  0.000000\n",
      "8  16874595  143982  0.000000\n",
      "9  16874596   11430  0.233333\n",
      "results\n"
     ]
    }
   ],
   "source": [
    "finale=pd.concat((test,pd.DataFrame(prediction)) ,axis=1,ignore_index=True)\n",
    "print(finale.head(10))\n",
    "print('results')"
   ]
  },
  {
   "cell_type": "code",
   "execution_count": 8,
   "metadata": {},
   "outputs": [
    {
     "name": "stdout",
     "output_type": "stream",
     "text": [
      "output stored\n"
     ]
    }
   ],
   "source": [
    "finale.columns = ['display_id','ad_id','clicked']\n",
    "finale.sort_values(['display_id','clicked'], inplace=True, ascending=False)\n",
    "finale = finale.groupby('display_id').ad_id.apply(lambda x: \" \".join(map(str,x))).reset_index()\n",
    "finale.to_csv('all/final.csv', index=False)\n",
    "print('output stored')"
   ]
  }
 ],
 "metadata": {
  "kernelspec": {
   "display_name": "Python 3",
   "language": "python",
   "name": "python3"
  },
  "language_info": {
   "codemirror_mode": {
    "name": "ipython",
    "version": 3
   },
   "file_extension": ".py",
   "mimetype": "text/x-python",
   "name": "python",
   "nbconvert_exporter": "python",
   "pygments_lexer": "ipython3",
   "version": "3.6.4"
  }
 },
 "nbformat": 4,
 "nbformat_minor": 2
}
